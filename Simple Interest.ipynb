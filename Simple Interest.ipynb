{
 "cells": [
  {
   "cell_type": "code",
   "execution_count": 4,
   "id": "5416b0f7",
   "metadata": {},
   "outputs": [
    {
     "name": "stdout",
     "output_type": "stream",
     "text": [
      "ENTER THE PRINCIPAL:  1000\n",
      "ENTER RATE OF INTEREST:  3\n",
      "ENTER TIME:  5\n",
      "150.0\n",
      "1150.0\n"
     ]
    }
   ],
   "source": [
    "# SIMPLE INTEREST\n",
    "PRINCIPAL = int(input(\"ENTER THE PRINCIPAL:  \"))\n",
    "RATE = int(input(\"ENTER RATE OF INTEREST:  \"))\n",
    "TIME = int(input(\"ENTER TIME:  \"))\n",
    "SIMPLE_INTEREST = PRINCIPAL*RATE*TIME/100\n",
    "AMOUNT = PRINCIPAL + SIMPLE_INTEREST\n",
    "print(SIMPLE_INTEREST)\n",
    "print(AMOUNT)\n"
   ]
  }
 ],
 "metadata": {
  "kernelspec": {
   "display_name": "Python 3 (ipykernel)",
   "language": "python",
   "name": "python3"
  },
  "language_info": {
   "codemirror_mode": {
    "name": "ipython",
    "version": 3
   },
   "file_extension": ".py",
   "mimetype": "text/x-python",
   "name": "python",
   "nbconvert_exporter": "python",
   "pygments_lexer": "ipython3",
   "version": "3.9.7"
  }
 },
 "nbformat": 4,
 "nbformat_minor": 5
}
